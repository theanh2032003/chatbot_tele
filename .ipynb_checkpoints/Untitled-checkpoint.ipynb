{
 "cells": [
  {
   "cell_type": "code",
   "execution_count": 1,
   "id": "63af4538",
   "metadata": {},
   "outputs": [],
   "source": [
    "from selenium import webdriver\n",
    "from time import sleep\n",
    "from selenium.webdriver.common.keys import Keys\n",
    "from selenium.webdriver.common.by import By\n",
    "import pandas as pd\n",
    "import random"
   ]
  },
  {
   "cell_type": "code",
   "execution_count": 3,
   "id": "17889fa8",
   "metadata": {},
   "outputs": [],
   "source": [
    "browser= webdriver.Chrome(executable_path=r'E:\\Tai_lieu_PTIT\\python\\ChatBot\\y\\chromedriver-win32\\chromedriver.exe')\n",
    "\n",
    "browser.get(\"https://www.nchmf.gov.vn/kttv/\")\n",
    "sleep(random.randint(5,10))\n",
    "elems = browser.find_elements(By.CSS_SELECTOR,\".uk-active\")\n",
    "List = [elem.text for elem in elems]"
   ]
  },
  {
   "cell_type": "code",
   "execution_count": 4,
   "id": "d23bacda",
   "metadata": {},
   "outputs": [
    {
     "data": {
      "text/plain": [
       "['',\n",
       " '',\n",
       " '',\n",
       " '',\n",
       " 'Lai Châu\\n28°C',\n",
       " 'Điện Biên\\n29°C',\n",
       " 'Sơn La\\n28°C',\n",
       " 'Hòa Bình\\n30°C',\n",
       " 'Lào Cai\\n34°C',\n",
       " 'Yên Bái\\n32°C',\n",
       " 'Hà Giang\\n30°C',\n",
       " 'Tuyên Quang\\n32°C',\n",
       " 'Bắc cạn\\n30°C',\n",
       " 'Thái Nguyên\\n33°C',\n",
       " 'Phú Thọ\\n33°C',\n",
       " 'THỜI TIẾT BIỂN - ĐÊM 2 VÀ NGÀY 03/09/2023\\nBẮC VỊNH BẮC BỘ\\nCó mưa rào và dông rải rác ở phía Đông. Trong mưa dông có khả năng xảy ra lốc xoáy.\\nTầm nhìn xa : Trên 10km, giảm xuống 4-10km trong mưa.\\nGió bắc đến tây bắc cấp 4-5; riêng khu vực phía Đông từ gần sáng mai có gió mạnh cấp 6, giật cấp 8, biển động. Sóng cao 1,5 - 2,5m. Riêng phía Đông 2,0 - 3,0m.',\n",
       " 'ĐẶC ĐIỂM KHÍ HẬU KHU VỰC TẠI HÀ NỘI\\nNhiệt độ\\nLượng mưa\\nLượng mưa\\nNhiệt độ\\n1\\n2\\n3\\n4\\n5\\n6\\n7\\n8\\n9\\n10\\n11\\n12\\n12°C\\n18°C\\n24°C\\n30°C\\n36°C\\n42°C\\n0 mm\\n80 mm\\n160 mm\\n240 mm\\n320 mm\\n400 mm',\n",
       " 'Ảnh phong cảnh']"
      ]
     },
     "execution_count": 4,
     "metadata": {},
     "output_type": "execute_result"
    }
   ],
   "source": [
    "List"
   ]
  },
  {
   "cell_type": "code",
   "execution_count": 12,
   "id": "87956792",
   "metadata": {},
   "outputs": [],
   "source": [
    "import requests\n",
    "import json\n",
    "import datetime"
   ]
  },
  {
   "cell_type": "code",
   "execution_count": 16,
   "id": "6600a1f0",
   "metadata": {},
   "outputs": [
    {
     "name": "stdout",
     "output_type": "stream",
     "text": [
      "Nhập thanh phốĐà Nẵng\n",
      "\n",
      "        Hôm nay ngày 3 tháng 9 năm 2023\n",
      "        Mặt trời mọc vào 5 giờ 34 phút\n",
      "        Mặt trời lặn vào 17 giờ 59 phút\n",
      "        Nhiệt độ trung bình là 28.99 độ C\n",
      "        Áp suất không khí là 1003 héc tơ Pascal\n",
      "        Độ ẩm là 70%\n",
      "        clear sky\n",
      "        \n"
     ]
    }
   ],
   "source": [
    "def weather():\n",
    "    url = 'http://api.openweathermap.org/data/2.5/weather?'\n",
    "    city = input(\"Nhập thành phố : \")\n",
    "    if not city:\n",
    "        pass\n",
    "    api_key = \"fe8d8c65cf345889139d8e545f57819a\"\n",
    "    call_url = url + \"appid=\" + api_key + \"&q=\" + city + \"&units=metric\"\n",
    "    response = requests.get(call_url)\n",
    "    data = response.json()\n",
    "#     for key in data:{\n",
    "#     print(key,\":\", data[key])\n",
    "#     }\n",
    "    if data['cod'] != '404' :\n",
    "        city_rest = data['main']\n",
    "        current_temp = city_rest['temp']\n",
    "        current_pressure = city_rest['pressure']\n",
    "        current_humidity = city_rest['humidity']\n",
    "        sun_time = data['sys']\n",
    "        sun_rise = datetime.datetime.fromtimestamp(sun_time['sunrise'])\n",
    "        sun_set = datetime.datetime.fromtimestamp(sun_time['sunset'])\n",
    "        weather = data['weather']\n",
    "        weather_des = weather[0]['description']\n",
    "        now = datetime.datetime.now()\n",
    "        content = \"\"\"\n",
    "        Hôm nay ngày {day} tháng {month} năm {year}\n",
    "        Mặt trời mọc vào {hourrise} giờ {minrise} phút\n",
    "        Mặt trời lặn vào {hourset} giờ {minset} phút\n",
    "        Nhiệt độ trung bình là {temp} độ C\n",
    "        Áp suất không khí là {pressure} héc tơ Pascal\n",
    "        Độ ẩm là {humidity}%\n",
    "        {description}\n",
    "        \"\"\".format(day=now.day, month = now.month, year = now.year,\n",
    "                  hourrise = sun_rise.hour, minrise = sun_rise.minute,\n",
    "                  hourset = sun_set.hour, minset = sun_set.minute,\n",
    "                  temp=current_temp, pressure = current_pressure, humidity=current_humidity, description=weather_des)\n",
    "        print(content)\n",
    "    else:\n",
    "        print(\"Không tìm thấy thành phố\")\n",
    "        \n",
    "weather()"
   ]
  },
  {
   "cell_type": "code",
   "execution_count": null,
   "id": "d130e95d",
   "metadata": {},
   "outputs": [],
   "source": []
  }
 ],
 "metadata": {
  "kernelspec": {
   "display_name": "Python 3 (ipykernel)",
   "language": "python",
   "name": "python3"
  },
  "language_info": {
   "codemirror_mode": {
    "name": "ipython",
    "version": 3
   },
   "file_extension": ".py",
   "mimetype": "text/x-python",
   "name": "python",
   "nbconvert_exporter": "python",
   "pygments_lexer": "ipython3",
   "version": "3.10.9"
  }
 },
 "nbformat": 4,
 "nbformat_minor": 5
}
